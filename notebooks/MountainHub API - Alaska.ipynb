{
 "cells": [
  {
   "cell_type": "markdown",
   "metadata": {},
   "source": [
    "# MountainHub API - Alaska query\n",
    "2/16/2020\n",
    "\n",
    "Query for all data in Alaska, under a specific project / activity, since 2019-11-9"
   ]
  },
  {
   "cell_type": "code",
   "execution_count": 1,
   "metadata": {},
   "outputs": [],
   "source": [
    "%matplotlib inline\n",
    "\n",
    "import matplotlib.pyplot as plt\n",
    "from datetime import datetime\n",
    "import pandas as pd\n",
    "import geopandas as gpd\n",
    "import folium\n",
    "\n",
    "import mtnhubsnow as mh"
   ]
  },
  {
   "cell_type": "markdown",
   "metadata": {},
   "source": [
    "## Basic Usage\n",
    "Basic usage of the API wrapper is demonstrated below. The following optional parameters may also be specified to fetch within a certain time range or area, and to limit the number of results. Data is returned as a pandas dataframe.\n",
    "\n",
    "- limit: int (default: 1000)\n",
    "- start: datetime (default: None),\n",
    "- end: datetime (default: None),\n",
    "- box: dict of coordinates (default: None)"
   ]
  },
  {
   "cell_type": "code",
   "execution_count": 2,
   "metadata": {},
   "outputs": [],
   "source": [
    "mh.snow_data?"
   ]
  },
  {
   "cell_type": "code",
   "execution_count": 3,
   "metadata": {},
   "outputs": [],
   "source": [
    "# Search Area\n",
    "region = {\n",
    "    'latmax' : 75,\n",
    "    'latmin' : 54,\n",
    "    'lonmax': -140,\n",
    "    'lonmin': -170,\n",
    "}\n",
    "\n",
    "obs = mh.snow_data(obs_type='snow_conditions,snowpack_test', \n",
    "                   limit=10000000, start=datetime(2019,11,9),\n",
    "                   bbox=region)"
   ]
  },
  {
   "cell_type": "code",
   "execution_count": 4,
   "metadata": {},
   "outputs": [
    {
     "data": {
      "text/plain": [
       "73"
      ]
     },
     "execution_count": 4,
     "metadata": {},
     "output_type": "execute_result"
    }
   ],
   "source": [
    "len(obs)"
   ]
  },
  {
   "cell_type": "code",
   "execution_count": 5,
   "metadata": {},
   "outputs": [
    {
     "data": {
      "text/plain": [
       "snow_conditions    60\n",
       "snowpack_test      13\n",
       "Name: obs_type, dtype: int64"
      ]
     },
     "execution_count": 5,
     "metadata": {},
     "output_type": "execute_result"
    }
   ],
   "source": [
    "obs.obs_type.value_counts()"
   ]
  },
  {
   "cell_type": "code",
   "execution_count": 6,
   "metadata": {},
   "outputs": [
    {
     "data": {
      "text/html": [
       "<div>\n",
       "<style scoped>\n",
       "    .dataframe tbody tr th:only-of-type {\n",
       "        vertical-align: middle;\n",
       "    }\n",
       "\n",
       "    .dataframe tbody tr th {\n",
       "        vertical-align: top;\n",
       "    }\n",
       "\n",
       "    .dataframe thead th {\n",
       "        text-align: right;\n",
       "    }\n",
       "</style>\n",
       "<table border=\"1\" class=\"dataframe\">\n",
       "  <thead>\n",
       "    <tr style=\"text-align: right;\">\n",
       "      <th></th>\n",
       "      <th>id</th>\n",
       "      <th>datetime_utc</th>\n",
       "      <th>latitude</th>\n",
       "      <th>longitude</th>\n",
       "      <th>author_name</th>\n",
       "      <th>obs_type</th>\n",
       "      <th>snow_depth</th>\n",
       "      <th>description</th>\n",
       "    </tr>\n",
       "  </thead>\n",
       "  <tbody>\n",
       "    <tr>\n",
       "      <th>91</th>\n",
       "      <td>5dd32dd8991f631a41d1ff35</td>\n",
       "      <td>2019-11-18 15:48:03.886</td>\n",
       "      <td>64.859804</td>\n",
       "      <td>-147.847421</td>\n",
       "      <td>Jessica Landry</td>\n",
       "      <td>snow_conditions</td>\n",
       "      <td>32.999999</td>\n",
       "      <td></td>\n",
       "    </tr>\n",
       "    <tr>\n",
       "      <th>92</th>\n",
       "      <td>5dd32e23991f631a41d1ff52</td>\n",
       "      <td>2019-11-18 15:47:49.847</td>\n",
       "      <td>64.860546</td>\n",
       "      <td>-147.846669</td>\n",
       "      <td>Chris</td>\n",
       "      <td>snowpack_test</td>\n",
       "      <td>43.000000</td>\n",
       "      <td></td>\n",
       "    </tr>\n",
       "    <tr>\n",
       "      <th>93</th>\n",
       "      <td>5dd32d8a24869802b91e7be9</td>\n",
       "      <td>2019-11-18 15:47:12.920</td>\n",
       "      <td>64.859774</td>\n",
       "      <td>-147.847815</td>\n",
       "      <td>Sara Church</td>\n",
       "      <td>snow_conditions</td>\n",
       "      <td>29.999999</td>\n",
       "      <td></td>\n",
       "    </tr>\n",
       "    <tr>\n",
       "      <th>94</th>\n",
       "      <td>5dd32d6524869802b91e7bba</td>\n",
       "      <td>2019-11-18 15:46:38.088</td>\n",
       "      <td>64.860582</td>\n",
       "      <td>-147.846802</td>\n",
       "      <td>Chris</td>\n",
       "      <td>snowpack_test</td>\n",
       "      <td>43.000000</td>\n",
       "      <td></td>\n",
       "    </tr>\n",
       "    <tr>\n",
       "      <th>96</th>\n",
       "      <td>5dd32e0a24869802b91e7c65</td>\n",
       "      <td>2019-11-18 15:46:08.250</td>\n",
       "      <td>64.859848</td>\n",
       "      <td>-147.848071</td>\n",
       "      <td>Nancy Fresco</td>\n",
       "      <td>snow_conditions</td>\n",
       "      <td>24.999999</td>\n",
       "      <td></td>\n",
       "    </tr>\n",
       "    <tr>\n",
       "      <th>97</th>\n",
       "      <td>5dd32d5b991f631a41d1fea6</td>\n",
       "      <td>2019-11-18 15:46:00.320</td>\n",
       "      <td>64.860007</td>\n",
       "      <td>-147.846720</td>\n",
       "      <td>Chris</td>\n",
       "      <td>snowpack_test</td>\n",
       "      <td>43.000000</td>\n",
       "      <td></td>\n",
       "    </tr>\n",
       "    <tr>\n",
       "      <th>98</th>\n",
       "      <td>5dd32deb24869802b91e7c5a</td>\n",
       "      <td>2019-11-18 15:45:37.788</td>\n",
       "      <td>64.859789</td>\n",
       "      <td>-147.848002</td>\n",
       "      <td>Nancy Fresco</td>\n",
       "      <td>snow_conditions</td>\n",
       "      <td>28.999999</td>\n",
       "      <td></td>\n",
       "    </tr>\n",
       "    <tr>\n",
       "      <th>99</th>\n",
       "      <td>5dcb65abc2cf0772269a65a7</td>\n",
       "      <td>2019-11-12 18:08:16.357</td>\n",
       "      <td>62.500289</td>\n",
       "      <td>-150.327500</td>\n",
       "      <td>Mike Miller</td>\n",
       "      <td>snow_conditions</td>\n",
       "      <td>2.540000</td>\n",
       "      <td>SAAW2019.</td>\n",
       "    </tr>\n",
       "    <tr>\n",
       "      <th>100</th>\n",
       "      <td>5dc9eccf1382367426ce8ad5</td>\n",
       "      <td>2019-11-11 15:20:15.538</td>\n",
       "      <td>65.046278</td>\n",
       "      <td>-147.416950</td>\n",
       "      <td>Katreen Wikstrom Jones</td>\n",
       "      <td>snow_conditions</td>\n",
       "      <td>75.000000</td>\n",
       "      <td></td>\n",
       "    </tr>\n",
       "    <tr>\n",
       "      <th>101</th>\n",
       "      <td>5dc746b30eec241c400f95f6</td>\n",
       "      <td>2019-11-09 15:07:22.745</td>\n",
       "      <td>61.798464</td>\n",
       "      <td>-149.279611</td>\n",
       "      <td>Katreen Wikstrom Jones</td>\n",
       "      <td>snow_conditions</td>\n",
       "      <td>101.000000</td>\n",
       "      <td></td>\n",
       "    </tr>\n",
       "  </tbody>\n",
       "</table>\n",
       "</div>"
      ],
      "text/plain": [
       "                           id            datetime_utc   latitude   longitude  \\\n",
       "91   5dd32dd8991f631a41d1ff35 2019-11-18 15:48:03.886  64.859804 -147.847421   \n",
       "92   5dd32e23991f631a41d1ff52 2019-11-18 15:47:49.847  64.860546 -147.846669   \n",
       "93   5dd32d8a24869802b91e7be9 2019-11-18 15:47:12.920  64.859774 -147.847815   \n",
       "94   5dd32d6524869802b91e7bba 2019-11-18 15:46:38.088  64.860582 -147.846802   \n",
       "96   5dd32e0a24869802b91e7c65 2019-11-18 15:46:08.250  64.859848 -147.848071   \n",
       "97   5dd32d5b991f631a41d1fea6 2019-11-18 15:46:00.320  64.860007 -147.846720   \n",
       "98   5dd32deb24869802b91e7c5a 2019-11-18 15:45:37.788  64.859789 -147.848002   \n",
       "99   5dcb65abc2cf0772269a65a7 2019-11-12 18:08:16.357  62.500289 -150.327500   \n",
       "100  5dc9eccf1382367426ce8ad5 2019-11-11 15:20:15.538  65.046278 -147.416950   \n",
       "101  5dc746b30eec241c400f95f6 2019-11-09 15:07:22.745  61.798464 -149.279611   \n",
       "\n",
       "                author_name         obs_type  snow_depth description  \n",
       "91           Jessica Landry  snow_conditions   32.999999              \n",
       "92                    Chris    snowpack_test   43.000000              \n",
       "93             Sara Church   snow_conditions   29.999999              \n",
       "94                    Chris    snowpack_test   43.000000              \n",
       "96            Nancy Fresco   snow_conditions   24.999999              \n",
       "97                    Chris    snowpack_test   43.000000              \n",
       "98            Nancy Fresco   snow_conditions   28.999999              \n",
       "99              Mike Miller  snow_conditions    2.540000  SAAW2019.   \n",
       "100  Katreen Wikstrom Jones  snow_conditions   75.000000              \n",
       "101  Katreen Wikstrom Jones  snow_conditions  101.000000              "
      ]
     },
     "execution_count": 6,
     "metadata": {},
     "output_type": "execute_result"
    }
   ],
   "source": [
    "obs.tail(10)"
   ]
  },
  {
   "cell_type": "code",
   "execution_count": 7,
   "metadata": {},
   "outputs": [],
   "source": [
    "obs_saaw2019 = obs[obs.description.str.contains(\"SAAW2019\")]"
   ]
  },
  {
   "cell_type": "code",
   "execution_count": 8,
   "metadata": {},
   "outputs": [
    {
     "data": {
      "text/plain": [
       "9"
      ]
     },
     "execution_count": 8,
     "metadata": {},
     "output_type": "execute_result"
    }
   ],
   "source": [
    "len(obs_saaw2019)"
   ]
  },
  {
   "cell_type": "code",
   "execution_count": 9,
   "metadata": {},
   "outputs": [
    {
     "data": {
      "text/html": [
       "<div>\n",
       "<style scoped>\n",
       "    .dataframe tbody tr th:only-of-type {\n",
       "        vertical-align: middle;\n",
       "    }\n",
       "\n",
       "    .dataframe tbody tr th {\n",
       "        vertical-align: top;\n",
       "    }\n",
       "\n",
       "    .dataframe thead th {\n",
       "        text-align: right;\n",
       "    }\n",
       "</style>\n",
       "<table border=\"1\" class=\"dataframe\">\n",
       "  <thead>\n",
       "    <tr style=\"text-align: right;\">\n",
       "      <th></th>\n",
       "      <th>id</th>\n",
       "      <th>datetime_utc</th>\n",
       "      <th>latitude</th>\n",
       "      <th>longitude</th>\n",
       "      <th>author_name</th>\n",
       "      <th>obs_type</th>\n",
       "      <th>snow_depth</th>\n",
       "      <th>description</th>\n",
       "    </tr>\n",
       "  </thead>\n",
       "  <tbody>\n",
       "    <tr>\n",
       "      <th>63</th>\n",
       "      <td>5ddadde6281f54198817401c</td>\n",
       "      <td>2019-11-24 11:45:02.222</td>\n",
       "      <td>61.251822</td>\n",
       "      <td>-149.513328</td>\n",
       "      <td>Emily Baker</td>\n",
       "      <td>snow_conditions</td>\n",
       "      <td>45.00</td>\n",
       "      <td>SAAW2019</td>\n",
       "    </tr>\n",
       "    <tr>\n",
       "      <th>65</th>\n",
       "      <td>5dd9d5aa1bbaa50474c07c9b</td>\n",
       "      <td>2019-11-23 16:57:37.458</td>\n",
       "      <td>61.235399</td>\n",
       "      <td>-149.617811</td>\n",
       "      <td>Emily Baker</td>\n",
       "      <td>snow_conditions</td>\n",
       "      <td>0.00</td>\n",
       "      <td>SAAW2019</td>\n",
       "    </tr>\n",
       "    <tr>\n",
       "      <th>66</th>\n",
       "      <td>5dd9d5a600793c7c47e89afa</td>\n",
       "      <td>2019-11-23 16:44:14.999</td>\n",
       "      <td>61.233255</td>\n",
       "      <td>-149.579530</td>\n",
       "      <td>Emily Baker</td>\n",
       "      <td>snow_conditions</td>\n",
       "      <td>3.00</td>\n",
       "      <td>SAAW2019 3 cm total low density new fluff, may...</td>\n",
       "    </tr>\n",
       "    <tr>\n",
       "      <th>67</th>\n",
       "      <td>5dd9d1fc7a711870a3d9bccf</td>\n",
       "      <td>2019-11-23 16:17:25.255</td>\n",
       "      <td>61.246685</td>\n",
       "      <td>-149.534172</td>\n",
       "      <td>Emily Baker</td>\n",
       "      <td>snow_conditions</td>\n",
       "      <td>40.00</td>\n",
       "      <td>SAAW2019</td>\n",
       "    </tr>\n",
       "    <tr>\n",
       "      <th>68</th>\n",
       "      <td>5dd9d21a1bbaa50474c07aca</td>\n",
       "      <td>2019-11-23 16:11:59.775</td>\n",
       "      <td>61.248577</td>\n",
       "      <td>-149.528851</td>\n",
       "      <td>Emily Baker</td>\n",
       "      <td>snow_conditions</td>\n",
       "      <td>5.00</td>\n",
       "      <td>SAAW2019</td>\n",
       "    </tr>\n",
       "    <tr>\n",
       "      <th>69</th>\n",
       "      <td>5dd9c9d61bbaa50474c07789</td>\n",
       "      <td>2019-11-23 16:07:12.002</td>\n",
       "      <td>61.252118</td>\n",
       "      <td>-149.518262</td>\n",
       "      <td>Emily Baker</td>\n",
       "      <td>snow_conditions</td>\n",
       "      <td>16.00</td>\n",
       "      <td>SAAW2019</td>\n",
       "    </tr>\n",
       "    <tr>\n",
       "      <th>70</th>\n",
       "      <td>5dd9c8e81bbaa50474c076e7</td>\n",
       "      <td>2019-11-23 15:57:40.820</td>\n",
       "      <td>61.253634</td>\n",
       "      <td>-149.508786</td>\n",
       "      <td>Emily Baker</td>\n",
       "      <td>snow_conditions</td>\n",
       "      <td>85.00</td>\n",
       "      <td>SAAW2019</td>\n",
       "    </tr>\n",
       "    <tr>\n",
       "      <th>71</th>\n",
       "      <td>5dd9c5b500793c7c47e893e6</td>\n",
       "      <td>2019-11-23 15:49:34.526</td>\n",
       "      <td>61.250950</td>\n",
       "      <td>-149.507558</td>\n",
       "      <td>Emily Baker</td>\n",
       "      <td>snow_conditions</td>\n",
       "      <td>12.00</td>\n",
       "      <td>SAAW2019</td>\n",
       "    </tr>\n",
       "    <tr>\n",
       "      <th>99</th>\n",
       "      <td>5dcb65abc2cf0772269a65a7</td>\n",
       "      <td>2019-11-12 18:08:16.357</td>\n",
       "      <td>62.500289</td>\n",
       "      <td>-150.327500</td>\n",
       "      <td>Mike Miller</td>\n",
       "      <td>snow_conditions</td>\n",
       "      <td>2.54</td>\n",
       "      <td>SAAW2019.</td>\n",
       "    </tr>\n",
       "  </tbody>\n",
       "</table>\n",
       "</div>"
      ],
      "text/plain": [
       "                          id            datetime_utc   latitude   longitude  \\\n",
       "63  5ddadde6281f54198817401c 2019-11-24 11:45:02.222  61.251822 -149.513328   \n",
       "65  5dd9d5aa1bbaa50474c07c9b 2019-11-23 16:57:37.458  61.235399 -149.617811   \n",
       "66  5dd9d5a600793c7c47e89afa 2019-11-23 16:44:14.999  61.233255 -149.579530   \n",
       "67  5dd9d1fc7a711870a3d9bccf 2019-11-23 16:17:25.255  61.246685 -149.534172   \n",
       "68  5dd9d21a1bbaa50474c07aca 2019-11-23 16:11:59.775  61.248577 -149.528851   \n",
       "69  5dd9c9d61bbaa50474c07789 2019-11-23 16:07:12.002  61.252118 -149.518262   \n",
       "70  5dd9c8e81bbaa50474c076e7 2019-11-23 15:57:40.820  61.253634 -149.508786   \n",
       "71  5dd9c5b500793c7c47e893e6 2019-11-23 15:49:34.526  61.250950 -149.507558   \n",
       "99  5dcb65abc2cf0772269a65a7 2019-11-12 18:08:16.357  62.500289 -150.327500   \n",
       "\n",
       "    author_name         obs_type  snow_depth  \\\n",
       "63  Emily Baker  snow_conditions       45.00   \n",
       "65  Emily Baker  snow_conditions        0.00   \n",
       "66  Emily Baker  snow_conditions        3.00   \n",
       "67  Emily Baker  snow_conditions       40.00   \n",
       "68  Emily Baker  snow_conditions        5.00   \n",
       "69  Emily Baker  snow_conditions       16.00   \n",
       "70  Emily Baker  snow_conditions       85.00   \n",
       "71  Emily Baker  snow_conditions       12.00   \n",
       "99  Mike Miller  snow_conditions        2.54   \n",
       "\n",
       "                                          description  \n",
       "63                                           SAAW2019  \n",
       "65                                           SAAW2019  \n",
       "66  SAAW2019 3 cm total low density new fluff, may...  \n",
       "67                                           SAAW2019  \n",
       "68                                           SAAW2019  \n",
       "69                                           SAAW2019  \n",
       "70                                           SAAW2019  \n",
       "71                                           SAAW2019  \n",
       "99                                         SAAW2019.   "
      ]
     },
     "execution_count": 9,
     "metadata": {},
     "output_type": "execute_result"
    }
   ],
   "source": [
    "obs_saaw2019"
   ]
  },
  {
   "cell_type": "code",
   "execution_count": 10,
   "metadata": {},
   "outputs": [
    {
     "data": {
      "text/plain": [
       "Emily Baker                12\n",
       "Chris                      10\n",
       "Jessica Landry              8\n",
       "Katreen Wikstrom Jones      6\n",
       "Joseph Kurtak               6\n",
       "Sarah Carter                6\n",
       "Erin Mckittrick             5\n",
       "William Olofsson            3\n",
       "Klay Baker                  3\n",
       "Julie Carpenter             3\n",
       "Nancy Fresco                2\n",
       "Gabriel Wolken              2\n",
       "Tamra Jones                 1\n",
       "Sara Church                 1\n",
       "Brandon Marshall            1\n",
       "Kaden Fitzgerald Addler     1\n",
       "Michael Olive               1\n",
       "Marvin Turner               1\n",
       "Mike Miller                 1\n",
       "Name: author_name, dtype: int64"
      ]
     },
     "execution_count": 10,
     "metadata": {},
     "output_type": "execute_result"
    }
   ],
   "source": [
    "obs.author_name.value_counts()"
   ]
  },
  {
   "cell_type": "code",
   "execution_count": 11,
   "metadata": {},
   "outputs": [
    {
     "data": {
      "text/html": [
       "<div>\n",
       "<style scoped>\n",
       "    .dataframe tbody tr th:only-of-type {\n",
       "        vertical-align: middle;\n",
       "    }\n",
       "\n",
       "    .dataframe tbody tr th {\n",
       "        vertical-align: top;\n",
       "    }\n",
       "\n",
       "    .dataframe thead th {\n",
       "        text-align: right;\n",
       "    }\n",
       "</style>\n",
       "<table border=\"1\" class=\"dataframe\">\n",
       "  <thead>\n",
       "    <tr style=\"text-align: right;\">\n",
       "      <th></th>\n",
       "      <th>id</th>\n",
       "      <th>datetime_utc</th>\n",
       "      <th>latitude</th>\n",
       "      <th>longitude</th>\n",
       "      <th>author_name</th>\n",
       "      <th>obs_type</th>\n",
       "      <th>snow_depth</th>\n",
       "      <th>description</th>\n",
       "    </tr>\n",
       "  </thead>\n",
       "  <tbody>\n",
       "    <tr>\n",
       "      <th>63</th>\n",
       "      <td>5ddadde6281f54198817401c</td>\n",
       "      <td>2019-11-24 11:45:02.222</td>\n",
       "      <td>61.251822</td>\n",
       "      <td>-149.513328</td>\n",
       "      <td>Emily Baker</td>\n",
       "      <td>snow_conditions</td>\n",
       "      <td>45.0</td>\n",
       "      <td>SAAW2019</td>\n",
       "    </tr>\n",
       "    <tr>\n",
       "      <th>65</th>\n",
       "      <td>5dd9d5aa1bbaa50474c07c9b</td>\n",
       "      <td>2019-11-23 16:57:37.458</td>\n",
       "      <td>61.235399</td>\n",
       "      <td>-149.617811</td>\n",
       "      <td>Emily Baker</td>\n",
       "      <td>snow_conditions</td>\n",
       "      <td>0.0</td>\n",
       "      <td>SAAW2019</td>\n",
       "    </tr>\n",
       "    <tr>\n",
       "      <th>66</th>\n",
       "      <td>5dd9d5a600793c7c47e89afa</td>\n",
       "      <td>2019-11-23 16:44:14.999</td>\n",
       "      <td>61.233255</td>\n",
       "      <td>-149.579530</td>\n",
       "      <td>Emily Baker</td>\n",
       "      <td>snow_conditions</td>\n",
       "      <td>3.0</td>\n",
       "      <td>SAAW2019 3 cm total low density new fluff, may...</td>\n",
       "    </tr>\n",
       "    <tr>\n",
       "      <th>67</th>\n",
       "      <td>5dd9d1fc7a711870a3d9bccf</td>\n",
       "      <td>2019-11-23 16:17:25.255</td>\n",
       "      <td>61.246685</td>\n",
       "      <td>-149.534172</td>\n",
       "      <td>Emily Baker</td>\n",
       "      <td>snow_conditions</td>\n",
       "      <td>40.0</td>\n",
       "      <td>SAAW2019</td>\n",
       "    </tr>\n",
       "    <tr>\n",
       "      <th>68</th>\n",
       "      <td>5dd9d21a1bbaa50474c07aca</td>\n",
       "      <td>2019-11-23 16:11:59.775</td>\n",
       "      <td>61.248577</td>\n",
       "      <td>-149.528851</td>\n",
       "      <td>Emily Baker</td>\n",
       "      <td>snow_conditions</td>\n",
       "      <td>5.0</td>\n",
       "      <td>SAAW2019</td>\n",
       "    </tr>\n",
       "    <tr>\n",
       "      <th>69</th>\n",
       "      <td>5dd9c9d61bbaa50474c07789</td>\n",
       "      <td>2019-11-23 16:07:12.002</td>\n",
       "      <td>61.252118</td>\n",
       "      <td>-149.518262</td>\n",
       "      <td>Emily Baker</td>\n",
       "      <td>snow_conditions</td>\n",
       "      <td>16.0</td>\n",
       "      <td>SAAW2019</td>\n",
       "    </tr>\n",
       "    <tr>\n",
       "      <th>70</th>\n",
       "      <td>5dd9c8e81bbaa50474c076e7</td>\n",
       "      <td>2019-11-23 15:57:40.820</td>\n",
       "      <td>61.253634</td>\n",
       "      <td>-149.508786</td>\n",
       "      <td>Emily Baker</td>\n",
       "      <td>snow_conditions</td>\n",
       "      <td>85.0</td>\n",
       "      <td>SAAW2019</td>\n",
       "    </tr>\n",
       "    <tr>\n",
       "      <th>71</th>\n",
       "      <td>5dd9c5b500793c7c47e893e6</td>\n",
       "      <td>2019-11-23 15:49:34.526</td>\n",
       "      <td>61.250950</td>\n",
       "      <td>-149.507558</td>\n",
       "      <td>Emily Baker</td>\n",
       "      <td>snow_conditions</td>\n",
       "      <td>12.0</td>\n",
       "      <td>SAAW2019</td>\n",
       "    </tr>\n",
       "    <tr>\n",
       "      <th>72</th>\n",
       "      <td>5dd9c4fa1bbaa50474c075bf</td>\n",
       "      <td>2019-11-23 15:46:27.787</td>\n",
       "      <td>61.250972</td>\n",
       "      <td>-149.507611</td>\n",
       "      <td>Emily Baker</td>\n",
       "      <td>snow_conditions</td>\n",
       "      <td>12.0</td>\n",
       "      <td></td>\n",
       "    </tr>\n",
       "    <tr>\n",
       "      <th>73</th>\n",
       "      <td>5dd9c4d27a711870a3d9a7a1</td>\n",
       "      <td>2019-11-23 15:20:42.736</td>\n",
       "      <td>61.253194</td>\n",
       "      <td>-149.507074</td>\n",
       "      <td>Emily Baker</td>\n",
       "      <td>snow_conditions</td>\n",
       "      <td>45.0</td>\n",
       "      <td></td>\n",
       "    </tr>\n",
       "    <tr>\n",
       "      <th>74</th>\n",
       "      <td>5dd9c4ee00793c7c47e89378</td>\n",
       "      <td>2019-11-23 14:35:23.207</td>\n",
       "      <td>61.250293</td>\n",
       "      <td>-149.506584</td>\n",
       "      <td>Emily Baker</td>\n",
       "      <td>snow_conditions</td>\n",
       "      <td>8.0</td>\n",
       "      <td></td>\n",
       "    </tr>\n",
       "    <tr>\n",
       "      <th>75</th>\n",
       "      <td>5dd9a57d00793c7c47e887dc</td>\n",
       "      <td>2019-11-23 13:32:07.156</td>\n",
       "      <td>61.252827</td>\n",
       "      <td>-149.517269</td>\n",
       "      <td>Emily Baker</td>\n",
       "      <td>snow_conditions</td>\n",
       "      <td>27.0</td>\n",
       "      <td></td>\n",
       "    </tr>\n",
       "  </tbody>\n",
       "</table>\n",
       "</div>"
      ],
      "text/plain": [
       "                          id            datetime_utc   latitude   longitude  \\\n",
       "63  5ddadde6281f54198817401c 2019-11-24 11:45:02.222  61.251822 -149.513328   \n",
       "65  5dd9d5aa1bbaa50474c07c9b 2019-11-23 16:57:37.458  61.235399 -149.617811   \n",
       "66  5dd9d5a600793c7c47e89afa 2019-11-23 16:44:14.999  61.233255 -149.579530   \n",
       "67  5dd9d1fc7a711870a3d9bccf 2019-11-23 16:17:25.255  61.246685 -149.534172   \n",
       "68  5dd9d21a1bbaa50474c07aca 2019-11-23 16:11:59.775  61.248577 -149.528851   \n",
       "69  5dd9c9d61bbaa50474c07789 2019-11-23 16:07:12.002  61.252118 -149.518262   \n",
       "70  5dd9c8e81bbaa50474c076e7 2019-11-23 15:57:40.820  61.253634 -149.508786   \n",
       "71  5dd9c5b500793c7c47e893e6 2019-11-23 15:49:34.526  61.250950 -149.507558   \n",
       "72  5dd9c4fa1bbaa50474c075bf 2019-11-23 15:46:27.787  61.250972 -149.507611   \n",
       "73  5dd9c4d27a711870a3d9a7a1 2019-11-23 15:20:42.736  61.253194 -149.507074   \n",
       "74  5dd9c4ee00793c7c47e89378 2019-11-23 14:35:23.207  61.250293 -149.506584   \n",
       "75  5dd9a57d00793c7c47e887dc 2019-11-23 13:32:07.156  61.252827 -149.517269   \n",
       "\n",
       "    author_name         obs_type  snow_depth  \\\n",
       "63  Emily Baker  snow_conditions        45.0   \n",
       "65  Emily Baker  snow_conditions         0.0   \n",
       "66  Emily Baker  snow_conditions         3.0   \n",
       "67  Emily Baker  snow_conditions        40.0   \n",
       "68  Emily Baker  snow_conditions         5.0   \n",
       "69  Emily Baker  snow_conditions        16.0   \n",
       "70  Emily Baker  snow_conditions        85.0   \n",
       "71  Emily Baker  snow_conditions        12.0   \n",
       "72  Emily Baker  snow_conditions        12.0   \n",
       "73  Emily Baker  snow_conditions        45.0   \n",
       "74  Emily Baker  snow_conditions         8.0   \n",
       "75  Emily Baker  snow_conditions        27.0   \n",
       "\n",
       "                                          description  \n",
       "63                                           SAAW2019  \n",
       "65                                           SAAW2019  \n",
       "66  SAAW2019 3 cm total low density new fluff, may...  \n",
       "67                                           SAAW2019  \n",
       "68                                           SAAW2019  \n",
       "69                                           SAAW2019  \n",
       "70                                           SAAW2019  \n",
       "71                                           SAAW2019  \n",
       "72                                                     \n",
       "73                                                     \n",
       "74                                                     \n",
       "75                                                     "
      ]
     },
     "execution_count": 11,
     "metadata": {},
     "output_type": "execute_result"
    }
   ],
   "source": [
    "obs[obs.author_name == 'Emily Baker']"
   ]
  },
  {
   "cell_type": "code",
   "execution_count": 12,
   "metadata": {},
   "outputs": [],
   "source": [
    "# obs.to_csv('mountainhub_data_alaska_since20191109.csv', index=False)"
   ]
  },
  {
   "cell_type": "markdown",
   "metadata": {},
   "source": [
    "## Plotting\n",
    "Results can be easily plotted as demonstrated below, although the desired axis must be specified."
   ]
  },
  {
   "cell_type": "code",
   "execution_count": 13,
   "metadata": {},
   "outputs": [
    {
     "data": {
      "image/png": "[encoded data removed]",
      "text/plain": [
       "<Figure size 432x288 with 1 Axes>"
      ]
     },
     "metadata": {
      "needs_background": "light"
     },
     "output_type": "display_data"
    }
   ],
   "source": [
    "obs.plot(x='datetime_utc', y='snow_depth');"
   ]
  },
  {
   "cell_type": "markdown",
   "metadata": {},
   "source": [
    "Create a GeoDataframe from the `obs` Dataframe"
   ]
  },
  {
   "cell_type": "code",
   "execution_count": 14,
   "metadata": {},
   "outputs": [],
   "source": [
    "obs_gdf = gpd.GeoDataFrame(obs, geometry=gpd.points_from_xy(obs['longitude'], obs['latitude']))"
   ]
  },
  {
   "cell_type": "code",
   "execution_count": 15,
   "metadata": {},
   "outputs": [
    {
     "data": {
      "text/plain": [
       "<matplotlib.axes._subplots.AxesSubplot at 0x7f05c0bd0b90>"
      ]
     },
     "execution_count": 15,
     "metadata": {},
     "output_type": "execute_result"
    },
    {
     "data": {
      "image/png": "[encoded data removed]",
      "text/plain": [
       "<Figure size 432x288 with 1 Axes>"
      ]
     },
     "metadata": {
      "needs_background": "light"
     },
     "output_type": "display_data"
    }
   ],
   "source": [
    "obs_gdf.plot()"
   ]
  },
  {
   "cell_type": "code",
   "execution_count": 16,
   "metadata": {},
   "outputs": [],
   "source": [
    "m = folium.Map(tiles='Stamen terrain')"
   ]
  },
  {
   "cell_type": "code",
   "execution_count": 17,
   "metadata": {},
   "outputs": [
    {
     "data": {
      "text/html": [
       "<div style=\"width:100%;\"><div style=\"position:relative;width:100%;height:0;padding-bottom:60%;\"><iframe src=\"data:text/html;charset=utf-8;base64,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\" style=\"position:absolute;width:100%;height:100%;left:0;top:0;border:none !important;\" allowfullscreen webkitallowfullscreen mozallowfullscreen></iframe></div></div>"
      ],
      "text/plain": [
       "<folium.folium.Map at 0x7f05c0b84950>"
      ]
     },
     "execution_count": 17,
     "metadata": {},
     "output_type": "execute_result"
    }
   ],
   "source": [
    "for idx, row in obs_gdf.iterrows():\n",
    "    folium.Marker(location=[row['latitude'], row['longitude']], \n",
    "                  icon=folium.Icon(color='blue' if row['obs_type'] == 'snow_conditions' else 'green'),\n",
    "                  popup=\"<b>{0}: {1:.1f}</b></br>{2}. Observation type: {3}</b> {4}\".format(\n",
    "                      row['datetime_utc'], row['snow_depth'], \n",
    "                      row['author_name'], row['obs_type'], row['description'])\n",
    "                 ).add_to(m)\n",
    "\n",
    "# Set the map extent (bounds) to the extent of the sites\n",
    "m.fit_bounds(m.get_bounds())\n",
    "\n",
    "m"
   ]
  },
  {
   "cell_type": "code",
   "execution_count": null,
   "metadata": {},
   "outputs": [],
   "source": []
  }
 ],
 "metadata": {
  "kernelspec": {
   "display_name": "Python [conda env:cso_mtnhub]",
   "language": "python",
   "name": "conda-env-cso_mtnhub-py"
  },
  "language_info": {
   "codemirror_mode": {
    "name": "ipython",
    "version": 3
   },
   "file_extension": ".py",
   "mimetype": "text/x-python",
   "name": "python",
   "nbconvert_exporter": "python",
   "pygments_lexer": "ipython3",
   "version": "3.7.6"
  }
 },
 "nbformat": 4,
 "nbformat_minor": 4
}
